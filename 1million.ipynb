{
 "cells": [
  {
   "cell_type": "code",
   "execution_count": 1,
   "metadata": {},
   "outputs": [
    {
     "name": "stdout",
     "output_type": "stream",
     "text": [
      "Problems parsed and written to Parsecode1.json\n"
     ]
    }
   ],
   "source": [
    "import os\n",
    "import json\n",
    "\n",
    "def read_file(filepath):\n",
    "    \"\"\"Reads the content of a file and returns it.\"\"\"\n",
    "    with open(filepath, 'r', encoding='utf-8') as infile:\n",
    "        return infile.read()\n",
    "\n",
    "def write_to_json(problems, output_filepath):\n",
    "    \"\"\"Writes a list of dictionaries to a JSON file.\"\"\"\n",
    "    with open(output_filepath, 'w', encoding='utf-8') as file:\n",
    "        json.dump(problems, file, indent=4)\n",
    "\n",
    "def parse_problems(text):\n",
    "    \"\"\"Parses the text containing multiple problems and returns a list of problem dictionaries.\"\"\"\n",
    "    problems = []\n",
    "    current_problem = {}\n",
    "    lines = text.split('\\n')\n",
    "    current_key = None\n",
    "    \n",
    "    for line in lines:\n",
    "        if line.startswith('- query'):\n",
    "            if current_problem:\n",
    "                problems.append(current_problem)\n",
    "            current_problem = {'instruction': 'Answer the Following Question', 'input': '', 'output': ''}\n",
    "            current_key = 'input'\n",
    "        elif line.startswith('- result'):\n",
    "            current_key = 'output'\n",
    "        elif current_key:\n",
    "            current_problem[current_key] += line + '\\n'\n",
    "    \n",
    "    if current_problem:\n",
    "        problems.append(current_problem)\n",
    "    \n",
    "    return problems\n",
    "\n",
    "def main():\n",
    "    # Read the dataset file\n",
    "    text = read_file(\"data1.txt\")\n",
    "    problems = parse_problems(text)\n",
    "    \n",
    "    # Convert and write to JSON\n",
    "    write_to_json(problems, \"Parsecode2.json\")\n",
    "    print(\"Problems parsed and written to Parsecode1.json\")\n",
    "\n",
    "if __name__ == \"__main__\":\n",
    "    main()"
   ]
  },
  {
   "cell_type": "code",
   "execution_count": null,
   "metadata": {},
   "outputs": [],
   "source": []
  }
 ],
 "metadata": {
  "kernelspec": {
   "display_name": "Python 3",
   "language": "python",
   "name": "python3"
  },
  "language_info": {
   "codemirror_mode": {
    "name": "ipython",
    "version": 3
   },
   "file_extension": ".py",
   "mimetype": "text/x-python",
   "name": "python",
   "nbconvert_exporter": "python",
   "pygments_lexer": "ipython3",
   "version": "3.10.14"
  }
 },
 "nbformat": 4,
 "nbformat_minor": 2
}
