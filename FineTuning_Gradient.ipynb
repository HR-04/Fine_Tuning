{
 "cells": [
  {
   "cell_type": "code",
   "execution_count": 1,
   "metadata": {},
   "outputs": [
    {
     "name": "stdout",
     "output_type": "stream",
     "text": [
      "Collecting gradientai\n",
      "  Downloading gradientai-1.13.0-py3-none-any.whl.metadata (1.3 kB)\n",
      "Collecting aenum>=3.1.11 (from gradientai)\n",
      "  Downloading aenum-3.1.15-py3-none-any.whl.metadata (3.7 kB)\n",
      "Requirement already satisfied: pydantic<3,>=1.10.15 in c:\\users\\admin\\torch-gpu\\lib\\site-packages (from gradientai) (2.7.3)\n",
      "Requirement already satisfied: python-dateutil>=2.8.2 in c:\\users\\admin\\appdata\\roaming\\python\\python310\\site-packages (from gradientai) (2.9.0.post0)\n",
      "Requirement already satisfied: urllib3>=1.25.3 in c:\\users\\admin\\torch-gpu\\lib\\site-packages (from gradientai) (2.2.1)\n",
      "Requirement already satisfied: annotated-types>=0.4.0 in c:\\users\\admin\\appdata\\roaming\\python\\python310\\site-packages (from pydantic<3,>=1.10.15->gradientai) (0.5.0)\n",
      "Requirement already satisfied: pydantic-core==2.18.4 in c:\\users\\admin\\torch-gpu\\lib\\site-packages (from pydantic<3,>=1.10.15->gradientai) (2.18.4)\n",
      "Requirement already satisfied: typing-extensions>=4.6.1 in c:\\users\\admin\\torch-gpu\\lib\\site-packages (from pydantic<3,>=1.10.15->gradientai) (4.12.1)\n",
      "Requirement already satisfied: six>=1.5 in c:\\users\\admin\\appdata\\roaming\\python\\python310\\site-packages (from python-dateutil>=2.8.2->gradientai) (1.16.0)\n",
      "Downloading gradientai-1.13.0-py3-none-any.whl (397 kB)\n",
      "   ---------------------------------------- 0.0/397.7 kB ? eta -:--:--\n",
      "   - -------------------------------------- 10.2/397.7 kB ? eta -:--:--\n",
      "   -------- ------------------------------- 81.9/397.7 kB 1.1 MB/s eta 0:00:01\n",
      "   ---------- --------------------------- 112.6/397.7 kB 930.9 kB/s eta 0:00:01\n",
      "   ----------- -------------------------- 122.9/397.7 kB 798.9 kB/s eta 0:00:01\n",
      "   ----------- -------------------------- 122.9/397.7 kB 798.9 kB/s eta 0:00:01\n",
      "   ------------- ------------------------ 143.4/397.7 kB 532.5 kB/s eta 0:00:01\n",
      "   ----------------------------- -------- 307.2/397.7 kB 999.9 kB/s eta 0:00:01\n",
      "   ---------------------------------------  389.1/397.7 kB 1.1 MB/s eta 0:00:01\n",
      "   ---------------------------------------- 397.7/397.7 kB 1.1 MB/s eta 0:00:00\n",
      "Downloading aenum-3.1.15-py3-none-any.whl (137 kB)\n",
      "   ---------------------------------------- 0.0/137.6 kB ? eta -:--:--\n",
      "   ----------------- ---------------------- 61.4/137.6 kB 1.7 MB/s eta 0:00:01\n",
      "   -------------------------------------- - 133.1/137.6 kB 1.6 MB/s eta 0:00:01\n",
      "   ---------------------------------------- 137.6/137.6 kB 1.6 MB/s eta 0:00:00\n",
      "Installing collected packages: aenum, gradientai\n",
      "Successfully installed aenum-3.1.15 gradientai-1.13.0\n"
     ]
    }
   ],
   "source": [
    "!pip install gradientai --upgrade"
   ]
  },
  {
   "cell_type": "code",
   "execution_count": 2,
   "metadata": {},
   "outputs": [],
   "source": [
    "\n",
    "import os\n",
    "os.environ['GRADIENT_WORKSPACE_ID']='f6ac3be5-9af2-4c20-9ece-d508f6be3c46_workspace'\n",
    "os.environ['GRADIENT_ACCESS_TOKEN']='IrETMBwmDYCJamlCQ4Q69luTzJeHAeEn'"
   ]
  },
  {
   "cell_type": "code",
   "execution_count": null,
   "metadata": {},
   "outputs": [],
   "source": []
  }
 ],
 "metadata": {
  "kernelspec": {
   "display_name": "Python 3",
   "language": "python",
   "name": "python3"
  },
  "language_info": {
   "codemirror_mode": {
    "name": "ipython",
    "version": 3
   },
   "file_extension": ".py",
   "mimetype": "text/x-python",
   "name": "python",
   "nbconvert_exporter": "python",
   "pygments_lexer": "ipython3",
   "version": "3.10.14"
  }
 },
 "nbformat": 4,
 "nbformat_minor": 2
}
